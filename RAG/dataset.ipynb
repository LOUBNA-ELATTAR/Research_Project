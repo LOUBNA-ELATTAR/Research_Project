{
  "cells": [
    {
      "cell_type": "code",
      "execution_count": null,
      "id": "f4ee7145",
      "metadata": {
        "execution": {
          "iopub.execute_input": "2024-02-20T07:29:09.422877Z",
          "iopub.status.busy": "2024-02-20T07:29:09.421835Z",
          "iopub.status.idle": "2024-02-20T07:29:24.532048Z",
          "shell.execute_reply": "2024-02-20T07:29:24.531105Z"
        },
        "id": "f4ee7145",
        "outputId": "bd71fe51-ec2c-4cc4-d059-3b433bb4855a",
        "papermill": {
          "duration": 15.117351,
          "end_time": "2024-02-20T07:29:24.534791",
          "exception": false,
          "start_time": "2024-02-20T07:29:09.41744",
          "status": "completed"
        },
        "tags": []
      },
      "outputs": [],
      "source": [
        "!pip install blingfire"
      ]
    },
    {
      "cell_type": "code",
      "execution_count": null,
      "id": "c92f2553",
      "metadata": {
        "execution": {
          "iopub.execute_input": "2024-02-20T07:29:24.546296Z",
          "iopub.status.busy": "2024-02-20T07:29:24.545868Z",
          "iopub.status.idle": "2024-02-20T07:29:26.729579Z",
          "shell.execute_reply": "2024-02-20T07:29:26.728382Z"
        },
        "id": "c92f2553",
        "papermill": {
          "duration": 2.193094,
          "end_time": "2024-02-20T07:29:26.732648",
          "exception": false,
          "start_time": "2024-02-20T07:29:24.539554",
          "status": "completed"
        },
        "tags": []
      },
      "outputs": [],
      "source": [
        "import os\n",
        "import time\n",
        "import re\n",
        "import gzip\n",
        "import gc\n",
        "from tqdm.auto import tqdm\n",
        "from concurrent.futures import ProcessPoolExecutor, as_completed\n",
        "import blingfire as bf\n",
        "import numpy as np\n",
        "from datasets import load_dataset"
      ]
    },
    {
      "cell_type": "code",
      "execution_count": null,
      "id": "5877e76b",
      "metadata": {
        "execution": {
          "iopub.execute_input": "2024-02-20T07:29:26.743815Z",
          "iopub.status.busy": "2024-02-20T07:29:26.743212Z",
          "iopub.status.idle": "2024-02-20T07:29:26.750805Z",
          "shell.execute_reply": "2024-02-20T07:29:26.749857Z"
        },
        "id": "5877e76b",
        "papermill": {
          "duration": 0.01573,
          "end_time": "2024-02-20T07:29:26.752997",
          "exception": false,
          "start_time": "2024-02-20T07:29:26.737267",
          "status": "completed"
        },
        "tags": []
      },
      "outputs": [],
      "source": [
        "infobox_pattern = re.compile(r'\\{\\{Infobox [^}]+\\}\\}', flags=re.DOTALL)\n",
        "sidebar_pattern = re.compile(r'\\{\\{Sidebar [^}]+\\}\\}', flags=re.DOTALL)\n",
        "link_pattern = re.compile(r'\\[\\[([^|\\]]+\\|)?([^\\]]+)\\]\\]')\n",
        "references_pattern = re.compile(r'==\\s*(References|External links|See also|Notes)\\s*==.*', flags=re.DOTALL)\n",
        "citation_needed_pattern = re.compile(r'\\{\\{citation needed[^}]*\\}\\}', flags=re.DOTALL)\n",
        "cn_pattern = re.compile(r'\\{\\{cn\\}\\}', flags=re.DOTALL)\n",
        "curly_braces_pattern = re.compile(r'\\{\\{[^}]+\\}\\}', flags=re.DOTALL)\n",
        "whitespace_pattern = re.compile(r'\\s+')"
      ]
    },
    {
      "cell_type": "code",
      "execution_count": null,
      "id": "cefce315",
      "metadata": {
        "execution": {
          "iopub.execute_input": "2024-02-20T07:29:26.773185Z",
          "iopub.status.busy": "2024-02-20T07:29:26.772555Z",
          "iopub.status.idle": "2024-02-20T07:29:26.78772Z",
          "shell.execute_reply": "2024-02-20T07:29:26.78653Z"
        },
        "id": "cefce315",
        "papermill": {
          "duration": 0.023705,
          "end_time": "2024-02-20T07:29:26.790213",
          "exception": false,
          "start_time": "2024-02-20T07:29:26.766508",
          "status": "completed"
        },
        "tags": []
      },
      "outputs": [],
      "source": [
        "def preprocess_article(text: str) -> str:\n",
        "    text = infobox_pattern.sub('', text)\n",
        "    text = sidebar_pattern.sub('', text)\n",
        "    text = link_pattern.sub(r'\\2', text)\n",
        "    text = references_pattern.sub('', text)\n",
        "    text = citation_needed_pattern.sub('', text)\n",
        "    text = cn_pattern.sub('', text)  # Short form of citation needed\n",
        "    text = curly_braces_pattern.sub('', text)\n",
        "    text = whitespace_pattern.sub(' ', text).strip()\n",
        "    return text\n",
        "\n",
        "def process_article(article_text: str, min_len: int, max_len: int) -> str:\n",
        "    article_text = preprocess_article(article_text)\n",
        "    if not article_text:\n",
        "        return \"\"\n",
        "\n",
        "    proper_sentences = []\n",
        "    _, offsets = bf.text_to_sentences_and_offsets(article_text)\n",
        "\n",
        "    for o in offsets:\n",
        "        # Check if the length of the current sentence (calculated as end position - start position)\n",
        "        # falls within the specified minimum and maximum length bounds.\n",
        "        if not min_len <= o[1] - o[0] <= max_len:\n",
        "            continue\n",
        "        sentence = article_text[o[0]:o[1]]\n",
        "        proper_sentences.append(sentence)\n",
        "    return '\\n'.join(proper_sentences)\n",
        "\n",
        "def process_article_wrapper(args):\n",
        "    return process_article(*args)\n",
        "\n",
        "def process_wikipedia_dataset(wiki_dataset, output_dir, articles_per_file=1_000_000, batch_size=100):\n",
        "    os.makedirs(output_dir, exist_ok=True)  # Ensure output directory exists\n",
        "    file_count = 1\n",
        "    article_count = 0\n",
        "    out_f = gzip.open(f'{output_dir}/wikipedia_processed_{file_count}.txt.gz', 'wt', encoding='utf-8')\n",
        "\n",
        "    with ProcessPoolExecutor() as executor:\n",
        "        futures = {}\n",
        "        for article in tqdm(wiki_dataset, desc='Processing Articles'):\n",
        "            future = executor.submit(process_article_wrapper, (article['text'], 32, 2048))\n",
        "            futures[future] = article['text']\n",
        "\n",
        "            if len(futures) >= batch_size:\n",
        "                for future in as_completed(futures):\n",
        "                    sentences = future.result()\n",
        "                    out_f.write(sentences + '\\n')\n",
        "                    article_count += 1\n",
        "\n",
        "                    if article_count >= articles_per_file:\n",
        "                        out_f.close()\n",
        "                        file_count += 1\n",
        "                        article_count = 0\n",
        "                        out_f = gzip.open(f'{output_dir}/wikipedia_processed_{file_count}.txt.gz', 'wt', encoding='utf-8')\n",
        "                    del futures[future]\n",
        "                    break\n",
        "\n",
        "        for future in as_completed(futures):\n",
        "            sentences = future.result()\n",
        "            out_f.write(sentences + '\\n')\n",
        "            article_count += 1\n",
        "\n",
        "            if article_count >= articles_per_file:\n",
        "                out_f.close()\n",
        "                file_count += 1\n",
        "                article_count = 0\n",
        "                out_f = gzip.open(f'{output_dir}/wikipedia_processed_{file_count}.txt.gz', 'wt', encoding='utf-8')\n",
        "    out_f.close()"
      ]
    },
    {
      "cell_type": "code",
      "execution_count": null,
      "id": "adaa1427",
      "metadata": {
        "colab": {
          "referenced_widgets": [
            "a506dd42ef5645b9b76d99915708f164",
            "7603207ec1ae41a79f70830b9d970d14",
            "5e0a931a51c745ee9020363505939346",
            "187cbb22d7604f7abd0f07db4619becc",
            "6e1d8cbebb4a477cac8ddc81e4216b48"
          ]
        },
        "execution": {
          "iopub.execute_input": "2024-02-20T07:29:26.801436Z",
          "iopub.status.busy": "2024-02-20T07:29:26.800748Z",
          "iopub.status.idle": "2024-02-20T10:10:38.367506Z",
          "shell.execute_reply": "2024-02-20T10:10:38.364412Z"
        },
        "id": "adaa1427",
        "outputId": "527cba1d-e6ae-469a-8b17-bd0ea1653758",
        "papermill": {
          "duration": 9671.580551,
          "end_time": "2024-02-20T10:10:38.375323",
          "exception": false,
          "start_time": "2024-02-20T07:29:26.794772",
          "status": "completed"
        },
        "tags": []
      },
      "outputs": [
        {
          "data": {
            "application/vnd.jupyter.widget-view+json": {
              "model_id": "a506dd42ef5645b9b76d99915708f164",
              "version_major": 2,
              "version_minor": 0
            },
            "text/plain": [
              "Downloading builder script:   0%|          | 0.00/11.6k [00:00<?, ?B/s]"
            ]
          },
          "metadata": {},
          "output_type": "display_data"
        },
        {
          "data": {
            "application/vnd.jupyter.widget-view+json": {
              "model_id": "7603207ec1ae41a79f70830b9d970d14",
              "version_major": 2,
              "version_minor": 0
            },
            "text/plain": [
              "Downloading metadata:   0%|          | 0.00/7.14k [00:00<?, ?B/s]"
            ]
          },
          "metadata": {},
          "output_type": "display_data"
        },
        {
          "name": "stdout",
          "output_type": "stream",
          "text": [
            "Downloading and preparing dataset wikipedia/20220301.en (download: 19.18 GiB, generated: 18.88 GiB, post-processed: Unknown size, total: 38.07 GiB) to /root/.cache/huggingface/datasets/wikipedia/20220301.en/2.0.0/aa542ed919df55cc5d3347f42dd4521d05ca68751f50dbc32bae2a7f1e167559...\n"
          ]
        },
        {
          "data": {
            "application/vnd.jupyter.widget-view+json": {
              "model_id": "5e0a931a51c745ee9020363505939346",
              "version_major": 2,
              "version_minor": 0
            },
            "text/plain": [
              "Downloading:   0%|          | 0.00/15.3k [00:00<?, ?B/s]"
            ]
          },
          "metadata": {},
          "output_type": "display_data"
        },
        {
          "data": {
            "application/vnd.jupyter.widget-view+json": {
              "model_id": "187cbb22d7604f7abd0f07db4619becc",
              "version_major": 2,
              "version_minor": 0
            },
            "text/plain": [
              "Downloading:   0%|          | 0.00/20.3G [00:00<?, ?B/s]"
            ]
          },
          "metadata": {},
          "output_type": "display_data"
        },
        {
          "name": "stdout",
          "output_type": "stream",
          "text": [
            "Dataset wikipedia downloaded and prepared to /root/.cache/huggingface/datasets/wikipedia/20220301.en/2.0.0/aa542ed919df55cc5d3347f42dd4521d05ca68751f50dbc32bae2a7f1e167559. Subsequent calls will reuse this data.\n",
            "Length of the Wikipedia dataset is 6_458_670 articles.\n"
          ]
        },
        {
          "data": {
            "application/vnd.jupyter.widget-view+json": {
              "model_id": "6e1d8cbebb4a477cac8ddc81e4216b48",
              "version_major": 2,
              "version_minor": 0
            },
            "text/plain": [
              "Processing Articles:   0%|          | 0/6458670 [00:00<?, ?it/s]"
            ]
          },
          "metadata": {},
          "output_type": "display_data"
        }
      ],
      "source": [
        "wiki_dataset = load_dataset(\"wikipedia\", \"20220301.en\", split='train')\n",
        "print(f'Length of the Wikipedia dataset is {len(wiki_dataset):_} articles.')\n",
        "output_dir = '/kaggle/working'\n",
        "process_wikipedia_dataset(wiki_dataset, output_dir)"
      ]
    },
    {
      "cell_type": "code",
      "execution_count": null,
      "id": "97bf8073",
      "metadata": {
        "id": "97bf8073",
        "papermill": {
          "duration": 0.011514,
          "end_time": "2024-02-20T10:10:38.433745",
          "exception": false,
          "start_time": "2024-02-20T10:10:38.422231",
          "status": "completed"
        },
        "tags": []
      },
      "outputs": [],
      "source": []
    }
  ],
  "metadata": {
    "colab": {
      "provenance": []
    },
    "kaggle": {
      "accelerator": "none",
      "dataSources": [],
      "dockerImageVersionId": 30636,
      "isGpuEnabled": false,
      "isInternetEnabled": true,
      "language": "python",
      "sourceType": "notebook"
    },
    "kernelspec": {
      "display_name": "Python 3",
      "language": "python",
      "name": "python3"
    },
    "language_info": {
      "codemirror_mode": {
        "name": "ipython",
        "version": 3
      },
      "file_extension": ".py",
      "mimetype": "text/x-python",
      "name": "python",
      "nbconvert_exporter": "python",
      "pygments_lexer": "ipython3",
      "version": "3.10.12"
    },
    "papermill": {
      "default_parameters": {},
      "duration": 9694.946672,
      "end_time": "2024-02-20T10:10:40.325416",
      "environment_variables": {},
      "exception": null,
      "input_path": "__notebook__.ipynb",
      "output_path": "__notebook__.ipynb",
      "parameters": {},
      "start_time": "2024-02-20T07:29:05.378744",
      "version": "2.4.0"
    },
    "widgets": {
      "application/vnd.jupyter.widget-state+json": {}
    }
  },
  "nbformat": 4,
  "nbformat_minor": 5
}
